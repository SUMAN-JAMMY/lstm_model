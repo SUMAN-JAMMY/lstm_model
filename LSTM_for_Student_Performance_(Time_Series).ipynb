{
  "cells": [
    {
      "cell_type": "code",
      "source": [
        "pip install kaggle"
      ],
      "metadata": {
        "colab": {
          "base_uri": "https://localhost:8080/"
        },
        "id": "KIxrjCxZr4DG",
        "outputId": "caab3718-68e7-4b3c-f707-0c6073f07c64"
      },
      "execution_count": 8,
      "outputs": [
        {
          "output_type": "stream",
          "name": "stdout",
          "text": [
            "Requirement already satisfied: kaggle in /usr/local/lib/python3.12/dist-packages (1.7.4.5)\n",
            "Requirement already satisfied: bleach in /usr/local/lib/python3.12/dist-packages (from kaggle) (6.2.0)\n",
            "Requirement already satisfied: certifi>=14.05.14 in /usr/local/lib/python3.12/dist-packages (from kaggle) (2025.8.3)\n",
            "Requirement already satisfied: charset-normalizer in /usr/local/lib/python3.12/dist-packages (from kaggle) (3.4.3)\n",
            "Requirement already satisfied: idna in /usr/local/lib/python3.12/dist-packages (from kaggle) (3.10)\n",
            "Requirement already satisfied: protobuf in /usr/local/lib/python3.12/dist-packages (from kaggle) (5.29.5)\n",
            "Requirement already satisfied: python-dateutil>=2.5.3 in /usr/local/lib/python3.12/dist-packages (from kaggle) (2.9.0.post0)\n",
            "Requirement already satisfied: python-slugify in /usr/local/lib/python3.12/dist-packages (from kaggle) (8.0.4)\n",
            "Requirement already satisfied: requests in /usr/local/lib/python3.12/dist-packages (from kaggle) (2.32.4)\n",
            "Requirement already satisfied: setuptools>=21.0.0 in /usr/local/lib/python3.12/dist-packages (from kaggle) (75.2.0)\n",
            "Requirement already satisfied: six>=1.10 in /usr/local/lib/python3.12/dist-packages (from kaggle) (1.17.0)\n",
            "Requirement already satisfied: text-unidecode in /usr/local/lib/python3.12/dist-packages (from kaggle) (1.3)\n",
            "Requirement already satisfied: tqdm in /usr/local/lib/python3.12/dist-packages (from kaggle) (4.67.1)\n",
            "Requirement already satisfied: urllib3>=1.15.1 in /usr/local/lib/python3.12/dist-packages (from kaggle) (2.5.0)\n",
            "Requirement already satisfied: webencodings in /usr/local/lib/python3.12/dist-packages (from kaggle) (0.5.1)\n"
          ]
        }
      ]
    },
    {
      "cell_type": "code",
      "source": [
        "import zipfile\n",
        "import os\n",
        "\n",
        "zip_path = \"/content/archive (1).zip\"  # path to your zip file\n",
        "extract_path = \"/content/dataset\"      # folder to extract into\n",
        "\n",
        "# Make sure the folder exists\n",
        "os.makedirs(extract_path, exist_ok=True)\n",
        "\n",
        "# Extract the zip file\n",
        "with zipfile.ZipFile(zip_path, 'r') as zip_ref:\n",
        "    zip_ref.extractall(extract_path)\n",
        "\n",
        "print(\"✅ Extraction complete!\")\n"
      ],
      "metadata": {
        "colab": {
          "base_uri": "https://localhost:8080/"
        },
        "id": "8Qc7oc5HR3yS",
        "outputId": "97a39fb9-21f4-479e-a7e8-27a790d91f2b"
      },
      "execution_count": 17,
      "outputs": [
        {
          "output_type": "stream",
          "name": "stdout",
          "text": [
            "✅ Extraction complete!\n"
          ]
        }
      ]
    },
    {
      "cell_type": "code",
      "source": [
        "import pandas as pd\n",
        "import numpy as np\n",
        "from sklearn.preprocessing import LabelEncoder\n",
        "from sklearn.model_selection import train_test_split\n",
        "from tensorflow.keras.models import Sequential\n",
        "from tensorflow.keras.layers import LSTM, Dense, Dropout\n",
        "from sklearn.preprocessing import MinMaxScaler\n",
        "import warnings\n",
        "\n",
        "# Suppress warnings\n",
        "warnings.filterwarnings('ignore')\n",
        "\n",
        "# --- Configuration ---\n",
        "SEQUENCE_LENGTH = 10\n",
        "DATA_FILE = \"/content/student-por.csv\"   # ✅ your dataset path\n",
        "\n",
        "# --- Preprocessing Functions ---\n",
        "def create_sequences(df_student, sequence_length):\n",
        "    sequences, targets = [], []\n",
        "    for i in range(len(df_student) - sequence_length):\n",
        "        seq = df_student.iloc[i: i + sequence_length]\n",
        "        label = df_student.iloc[i + sequence_length]['target']\n",
        "        sequences.append(seq.values)\n",
        "        targets.append(label)\n",
        "    return sequences, targets\n",
        "\n",
        "def preprocess_data(file_path, sequence_length=SEQUENCE_LENGTH):\n",
        "    print(\"📥 Loading dataset...\")\n",
        "    df = pd.read_csv('/content/dataset/student-por.csv')\n",
        "\n",
        "    if df.empty:\n",
        "        raise ValueError(\"Dataset is empty!\")\n",
        "\n",
        "    # 🎯 Convert final grade (G3) into Pass/Fail\n",
        "    df['target'] = (df['G3'] >= 10).astype(int)   # 1 = Pass, 0 = Fail\n",
        "    df = df.drop(columns=['G3'])\n",
        "\n",
        "    # Encode categorical columns\n",
        "    for col in df.select_dtypes(include=['object']).columns:\n",
        "        df[col] = LabelEncoder().fit_transform(df[col])\n",
        "\n",
        "    # Create sequences (per student OR just sequential since no student_id column)\n",
        "    all_sequences, all_targets = create_sequences(df, sequence_length)\n",
        "\n",
        "    if not all_sequences:\n",
        "        raise ValueError(\"Not enough data to create sequences. Try reducing SEQUENCE_LENGTH.\")\n",
        "\n",
        "    # Convert to numpy\n",
        "    X, y = np.array(all_sequences), np.array(all_targets)\n",
        "\n",
        "    # Flatten for splitting\n",
        "    num_samples = X.shape[0]\n",
        "    num_features = X.shape[1] * X.shape[2]\n",
        "    X_reshaped = X.reshape(num_samples, num_features)\n",
        "\n",
        "    # Train/test split\n",
        "    X_train_flat, X_test_flat, y_train, y_test = train_test_split(\n",
        "        X_reshaped, y, test_size=0.2, random_state=42\n",
        "    )\n",
        "\n",
        "    # Reshape back to 3D for LSTM\n",
        "    X_train = X_train_flat.reshape(-1, sequence_length, X.shape[2])\n",
        "    X_test = X_test_flat.reshape(-1, sequence_length, X.shape[2])\n",
        "\n",
        "    print(f\"✅ Training sequences: {X_train.shape[0]}\")\n",
        "    print(f\"✅ Testing sequences: {X_test.shape[0]}\")\n",
        "\n",
        "    return X_train, X_test, y_train, y_test\n",
        "\n",
        "def build_lstm_model(input_shape):\n",
        "    model = Sequential([\n",
        "        LSTM(64, input_shape=input_shape, return_sequences=False),\n",
        "        Dropout(0.2),\n",
        "        Dense(1, activation='sigmoid')  # ✅ binary classification\n",
        "    ])\n",
        "    model.compile(loss='binary_crossentropy', optimizer='adam', metrics=['accuracy'])\n",
        "    return model\n",
        "\n",
        "# --- Main Execution ---\n",
        "try:\n",
        "    X_train, X_test, y_train, y_test = preprocess_data(DATA_FILE)\n",
        "\n",
        "    model = build_lstm_model((X_train.shape[1], X_train.shape[2]))\n",
        "\n",
        "    print(\"\\n🚀 Training model...\")\n",
        "    model.fit(X_train, y_train, epochs=20, batch_size=32, validation_data=(X_test, y_test), verbose=1)\n",
        "    print(\"🎉 Training complete.\")\n",
        "\n",
        "    loss, accuracy = model.evaluate(X_test, y_test, verbose=0)\n",
        "    print(f\"\\n📊 Model Evaluation:\")\n",
        "    print(f\"Test Loss: {loss:.4f}\")\n",
        "    print(f\"Test Accuracy: {accuracy * 100:.2f}%\")\n",
        "\n",
        "    # Prediction example\n",
        "    sample_sequence = X_test[-1].reshape(1, X_test.shape[1], X_test.shape[2])\n",
        "    prediction = model.predict(sample_sequence, verbose=0)[0][0]\n",
        "    actual_label = y_test[-1]\n",
        "\n",
        "    print(f\"\\n🔮 Prediction Example:\")\n",
        "    print(f\"Predicted Probability of Passing: {prediction:.4f}\")\n",
        "    print(f\"Prediction: {'Pass ✅' if prediction > 0.5 else 'Fail ❌'}\")\n",
        "    print(f\"Actual: {'Pass ✅' if actual_label == 1 else 'Fail ❌'}\")\n",
        "\n",
        "except Exception as e:\n",
        "    print(f\"❌ Error: {e}\")\n"
      ],
      "metadata": {
        "colab": {
          "base_uri": "https://localhost:8080/"
        },
        "id": "fUdB8RNRUqpL",
        "outputId": "87327891-49ea-420e-c247-1b3441a3712b"
      },
      "execution_count": 30,
      "outputs": [
        {
          "output_type": "stream",
          "name": "stdout",
          "text": [
            "📥 Loading dataset...\n",
            "✅ Training sequences: 511\n",
            "✅ Testing sequences: 128\n",
            "\n",
            "🚀 Training model...\n",
            "Epoch 1/20\n",
            "\u001b[1m16/16\u001b[0m \u001b[32m━━━━━━━━━━━━━━━━━━━━\u001b[0m\u001b[37m\u001b[0m \u001b[1m2s\u001b[0m 25ms/step - accuracy: 0.6266 - loss: 0.6344 - val_accuracy: 0.8750 - val_loss: 0.3799\n",
            "Epoch 2/20\n",
            "\u001b[1m16/16\u001b[0m \u001b[32m━━━━━━━━━━━━━━━━━━━━\u001b[0m\u001b[37m\u001b[0m \u001b[1m0s\u001b[0m 8ms/step - accuracy: 0.8184 - loss: 0.4942 - val_accuracy: 0.8750 - val_loss: 0.3745\n",
            "Epoch 3/20\n",
            "\u001b[1m16/16\u001b[0m \u001b[32m━━━━━━━━━━━━━━━━━━━━\u001b[0m\u001b[37m\u001b[0m \u001b[1m0s\u001b[0m 10ms/step - accuracy: 0.8494 - loss: 0.4146 - val_accuracy: 0.8750 - val_loss: 0.3578\n",
            "Epoch 4/20\n",
            "\u001b[1m16/16\u001b[0m \u001b[32m━━━━━━━━━━━━━━━━━━━━\u001b[0m\u001b[37m\u001b[0m \u001b[1m0s\u001b[0m 13ms/step - accuracy: 0.8588 - loss: 0.3914 - val_accuracy: 0.8750 - val_loss: 0.3426\n",
            "Epoch 5/20\n",
            "\u001b[1m16/16\u001b[0m \u001b[32m━━━━━━━━━━━━━━━━━━━━\u001b[0m\u001b[37m\u001b[0m \u001b[1m0s\u001b[0m 13ms/step - accuracy: 0.8474 - loss: 0.3892 - val_accuracy: 0.8750 - val_loss: 0.3274\n",
            "Epoch 6/20\n",
            "\u001b[1m16/16\u001b[0m \u001b[32m━━━━━━━━━━━━━━━━━━━━\u001b[0m\u001b[37m\u001b[0m \u001b[1m0s\u001b[0m 14ms/step - accuracy: 0.8285 - loss: 0.3961 - val_accuracy: 0.8750 - val_loss: 0.3150\n",
            "Epoch 7/20\n",
            "\u001b[1m16/16\u001b[0m \u001b[32m━━━━━━━━━━━━━━━━━━━━\u001b[0m\u001b[37m\u001b[0m \u001b[1m0s\u001b[0m 13ms/step - accuracy: 0.8298 - loss: 0.3872 - val_accuracy: 0.8828 - val_loss: 0.3145\n",
            "Epoch 8/20\n",
            "\u001b[1m16/16\u001b[0m \u001b[32m━━━━━━━━━━━━━━━━━━━━\u001b[0m\u001b[37m\u001b[0m \u001b[1m0s\u001b[0m 15ms/step - accuracy: 0.8488 - loss: 0.3955 - val_accuracy: 0.8750 - val_loss: 0.3334\n",
            "Epoch 9/20\n",
            "\u001b[1m16/16\u001b[0m \u001b[32m━━━━━━━━━━━━━━━━━━━━\u001b[0m\u001b[37m\u001b[0m \u001b[1m0s\u001b[0m 15ms/step - accuracy: 0.8413 - loss: 0.3825 - val_accuracy: 0.8750 - val_loss: 0.3103\n",
            "Epoch 10/20\n",
            "\u001b[1m16/16\u001b[0m \u001b[32m━━━━━━━━━━━━━━━━━━━━\u001b[0m\u001b[37m\u001b[0m \u001b[1m0s\u001b[0m 13ms/step - accuracy: 0.8188 - loss: 0.3833 - val_accuracy: 0.8750 - val_loss: 0.3211\n",
            "Epoch 11/20\n",
            "\u001b[1m16/16\u001b[0m \u001b[32m━━━━━━━━━━━━━━━━━━━━\u001b[0m\u001b[37m\u001b[0m \u001b[1m0s\u001b[0m 11ms/step - accuracy: 0.8515 - loss: 0.3631 - val_accuracy: 0.8828 - val_loss: 0.3670\n",
            "Epoch 12/20\n",
            "\u001b[1m16/16\u001b[0m \u001b[32m━━━━━━━━━━━━━━━━━━━━\u001b[0m\u001b[37m\u001b[0m \u001b[1m0s\u001b[0m 8ms/step - accuracy: 0.8162 - loss: 0.4188 - val_accuracy: 0.8750 - val_loss: 0.3236\n",
            "Epoch 13/20\n",
            "\u001b[1m16/16\u001b[0m \u001b[32m━━━━━━━━━━━━━━━━━━━━\u001b[0m\u001b[37m\u001b[0m \u001b[1m0s\u001b[0m 11ms/step - accuracy: 0.8217 - loss: 0.4147 - val_accuracy: 0.8672 - val_loss: 0.3169\n",
            "Epoch 14/20\n",
            "\u001b[1m16/16\u001b[0m \u001b[32m━━━━━━━━━━━━━━━━━━━━\u001b[0m\u001b[37m\u001b[0m \u001b[1m0s\u001b[0m 11ms/step - accuracy: 0.8427 - loss: 0.3616 - val_accuracy: 0.8750 - val_loss: 0.3069\n",
            "Epoch 15/20\n",
            "\u001b[1m16/16\u001b[0m \u001b[32m━━━━━━━━━━━━━━━━━━━━\u001b[0m\u001b[37m\u001b[0m \u001b[1m0s\u001b[0m 8ms/step - accuracy: 0.8714 - loss: 0.3346 - val_accuracy: 0.8672 - val_loss: 0.3285\n",
            "Epoch 16/20\n",
            "\u001b[1m16/16\u001b[0m \u001b[32m━━━━━━━━━━━━━━━━━━━━\u001b[0m\u001b[37m\u001b[0m \u001b[1m0s\u001b[0m 8ms/step - accuracy: 0.8482 - loss: 0.3569 - val_accuracy: 0.8750 - val_loss: 0.3210\n",
            "Epoch 17/20\n",
            "\u001b[1m16/16\u001b[0m \u001b[32m━━━━━━━━━━━━━━━━━━━━\u001b[0m\u001b[37m\u001b[0m \u001b[1m0s\u001b[0m 8ms/step - accuracy: 0.8506 - loss: 0.3710 - val_accuracy: 0.8750 - val_loss: 0.3170\n",
            "Epoch 18/20\n",
            "\u001b[1m16/16\u001b[0m \u001b[32m━━━━━━━━━━━━━━━━━━━━\u001b[0m\u001b[37m\u001b[0m \u001b[1m0s\u001b[0m 8ms/step - accuracy: 0.8483 - loss: 0.3387 - val_accuracy: 0.8828 - val_loss: 0.3202\n",
            "Epoch 19/20\n",
            "\u001b[1m16/16\u001b[0m \u001b[32m━━━━━━━━━━━━━━━━━━━━\u001b[0m\u001b[37m\u001b[0m \u001b[1m0s\u001b[0m 11ms/step - accuracy: 0.8569 - loss: 0.3219 - val_accuracy: 0.8828 - val_loss: 0.3169\n",
            "Epoch 20/20\n",
            "\u001b[1m16/16\u001b[0m \u001b[32m━━━━━━━━━━━━━━━━━━━━\u001b[0m\u001b[37m\u001b[0m \u001b[1m0s\u001b[0m 11ms/step - accuracy: 0.8324 - loss: 0.3450 - val_accuracy: 0.8750 - val_loss: 0.3410\n",
            "🎉 Training complete.\n",
            "\n",
            "📊 Model Evaluation:\n",
            "Test Loss: 0.3410\n",
            "Test Accuracy: 87.50%\n",
            "\n",
            "🔮 Prediction Example:\n",
            "Predicted Probability of Passing: 0.6586\n",
            "Prediction: Pass ✅\n",
            "Actual: Fail ❌\n"
          ]
        }
      ]
    },
    {
      "cell_type": "code",
      "source": [],
      "metadata": {
        "id": "v8ZEg-oTWx0A"
      },
      "execution_count": null,
      "outputs": []
    }
  ],
  "metadata": {
    "colab": {
      "provenance": [],
      "gpuType": "T4"
    },
    "kernelspec": {
      "display_name": "Python 3",
      "name": "python3"
    },
    "accelerator": "GPU"
  },
  "nbformat": 4,
  "nbformat_minor": 0
}